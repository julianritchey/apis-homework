{
 "cells": [
  {
   "cell_type": "markdown",
   "metadata": {},
   "source": [
    "# Unit 5 - Financial Planning"
   ]
  },
  {
   "cell_type": "code",
   "execution_count": 1,
   "metadata": {},
   "outputs": [],
   "source": [
    "# Initial imports\n",
    "import os\n",
    "import requests\n",
    "import pandas as pd\n",
    "from dotenv import load_dotenv\n",
    "import alpaca_trade_api as tradeapi\n",
    "from MCForecastTools import MCSimulation\n",
    "\n",
    "%matplotlib inline"
   ]
  },
  {
   "cell_type": "code",
   "execution_count": 2,
   "metadata": {},
   "outputs": [
    {
     "data": {
      "text/plain": [
       "True"
      ]
     },
     "execution_count": 2,
     "metadata": {},
     "output_type": "execute_result"
    }
   ],
   "source": [
    "# Load .env enviroment variables\n",
    "load_dotenv()"
   ]
  },
  {
   "cell_type": "markdown",
   "metadata": {},
   "source": [
    "## Part 1 - Personal Finance Planner"
   ]
  },
  {
   "cell_type": "markdown",
   "metadata": {},
   "source": [
    "### Collect Crypto Prices Using the `requests` Library"
   ]
  },
  {
   "cell_type": "code",
   "execution_count": 3,
   "metadata": {},
   "outputs": [],
   "source": [
    "# Set current amount of crypto assets\n",
    "my_btc = 1.2\n",
    "my_eth = 5.3"
   ]
  },
  {
   "cell_type": "code",
   "execution_count": 4,
   "metadata": {},
   "outputs": [],
   "source": [
    "# Crypto API URLs\n",
    "btc_url = \"https://api.alternative.me/v2/ticker/Bitcoin/?convert=CAD\"\n",
    "eth_url = \"https://api.alternative.me/v2/ticker/Ethereum/?convert=CAD\""
   ]
  },
  {
   "cell_type": "code",
   "execution_count": 5,
   "metadata": {},
   "outputs": [
    {
     "name": "stdout",
     "output_type": "stream",
     "text": [
      "The current value of your 1.2 BTC is $45997.72\n",
      "The current value of your 5.3 ETH is $12995.80\n"
     ]
    }
   ],
   "source": [
    "# Fetch current BTC price\n",
    "btc_cad_data = requests.get(btc_url)\n",
    "btc_cad_json = btc_cad_data.json()\n",
    "btc_cad = btc_cad_json['data']['1']['quotes']['CAD']['price']\n",
    "\n",
    "# Fetch current ETH price\n",
    "eth_cad_data = requests.get(eth_url)\n",
    "eth_cad_json = eth_cad_data.json()\n",
    "eth_cad = eth_cad_json['data']['1027']['quotes']['CAD']['price']\n",
    "\n",
    "# Compute current value of my crpto\n",
    "my_btc_value = my_btc*btc_cad\n",
    "my_eth_value = my_eth*eth_cad\n",
    "\n",
    "# Print current crypto wallet balance\n",
    "print(f\"The current value of your {my_btc} BTC is ${my_btc_value:0.2f}\")\n",
    "print(f\"The current value of your {my_eth} ETH is ${my_eth_value:0.2f}\")"
   ]
  },
  {
   "cell_type": "markdown",
   "metadata": {},
   "source": [
    "### Collect Investments Data Using Alpaca: `SPY` (stocks) and `AGG` (bonds)"
   ]
  },
  {
   "cell_type": "code",
   "execution_count": 6,
   "metadata": {},
   "outputs": [],
   "source": [
    "# Set current amount of shares\n",
    "my_agg = 200\n",
    "my_spy = 50"
   ]
  },
  {
   "cell_type": "code",
   "execution_count": 7,
   "metadata": {},
   "outputs": [],
   "source": [
    "# Set Alpaca API key and secret\n",
    "alpaca_api_key = os.getenv(\"ALPACA_API_KEY\")\n",
    "alpaca_secret_key = os.getenv(\"ALPACA_SECRET_KEY\")\n",
    "\n",
    "# Create the Alpaca API object\n",
    "alpaca = tradeapi.REST(\n",
    "    alpaca_api_key,\n",
    "    alpaca_secret_key,\n",
    "    api_version = \"v2\"\n",
    ")"
   ]
  },
  {
   "cell_type": "code",
   "execution_count": 8,
   "metadata": {},
   "outputs": [
    {
     "data": {
      "text/html": [
       "<div>\n",
       "<style scoped>\n",
       "    .dataframe tbody tr th:only-of-type {\n",
       "        vertical-align: middle;\n",
       "    }\n",
       "\n",
       "    .dataframe tbody tr th {\n",
       "        vertical-align: top;\n",
       "    }\n",
       "\n",
       "    .dataframe thead tr th {\n",
       "        text-align: left;\n",
       "    }\n",
       "\n",
       "    .dataframe thead tr:last-of-type th {\n",
       "        text-align: right;\n",
       "    }\n",
       "</style>\n",
       "<table border=\"1\" class=\"dataframe\">\n",
       "  <thead>\n",
       "    <tr>\n",
       "      <th></th>\n",
       "      <th colspan=\"7\" halign=\"left\">AGG</th>\n",
       "      <th colspan=\"7\" halign=\"left\">SPY</th>\n",
       "    </tr>\n",
       "    <tr>\n",
       "      <th></th>\n",
       "      <th>open</th>\n",
       "      <th>high</th>\n",
       "      <th>low</th>\n",
       "      <th>close</th>\n",
       "      <th>volume</th>\n",
       "      <th>trade_count</th>\n",
       "      <th>vwap</th>\n",
       "      <th>open</th>\n",
       "      <th>high</th>\n",
       "      <th>low</th>\n",
       "      <th>close</th>\n",
       "      <th>volume</th>\n",
       "      <th>trade_count</th>\n",
       "      <th>vwap</th>\n",
       "    </tr>\n",
       "    <tr>\n",
       "      <th>timestamp</th>\n",
       "      <th></th>\n",
       "      <th></th>\n",
       "      <th></th>\n",
       "      <th></th>\n",
       "      <th></th>\n",
       "      <th></th>\n",
       "      <th></th>\n",
       "      <th></th>\n",
       "      <th></th>\n",
       "      <th></th>\n",
       "      <th></th>\n",
       "      <th></th>\n",
       "      <th></th>\n",
       "      <th></th>\n",
       "    </tr>\n",
       "  </thead>\n",
       "  <tbody>\n",
       "    <tr>\n",
       "      <th>2023-03-21 04:00:00+00:00</th>\n",
       "      <td>98.85</td>\n",
       "      <td>99.03</td>\n",
       "      <td>98.7</td>\n",
       "      <td>98.8</td>\n",
       "      <td>5266174</td>\n",
       "      <td>24207</td>\n",
       "      <td>98.828502</td>\n",
       "      <td>397.24</td>\n",
       "      <td>399.41</td>\n",
       "      <td>395.58</td>\n",
       "      <td>398.91</td>\n",
       "      <td>89398619</td>\n",
       "      <td>612729</td>\n",
       "      <td>397.090074</td>\n",
       "    </tr>\n",
       "  </tbody>\n",
       "</table>\n",
       "</div>"
      ],
      "text/plain": [
       "                             AGG                                          \\\n",
       "                            open   high   low close   volume trade_count   \n",
       "timestamp                                                                  \n",
       "2023-03-21 04:00:00+00:00  98.85  99.03  98.7  98.8  5266174       24207   \n",
       "\n",
       "                                         SPY                          \\\n",
       "                                vwap    open    high     low   close   \n",
       "timestamp                                                              \n",
       "2023-03-21 04:00:00+00:00  98.828502  397.24  399.41  395.58  398.91   \n",
       "\n",
       "                                                             \n",
       "                             volume trade_count        vwap  \n",
       "timestamp                                                    \n",
       "2023-03-21 04:00:00+00:00  89398619      612729  397.090074  "
      ]
     },
     "execution_count": 8,
     "metadata": {},
     "output_type": "execute_result"
    }
   ],
   "source": [
    "# Format current date as ISO format\n",
    "today = pd.Timestamp(\"2023-03-21\", tz=\"America/New_York\").isoformat()\n",
    "\n",
    "# Set the tickers\n",
    "tickers = [\"AGG\", \"SPY\"]\n",
    "\n",
    "# Set timeframe to \"1Day\" for Alpaca API\n",
    "timeframe = \"1Day\"\n",
    "\n",
    "# Get current closing prices for SPY and AGG\n",
    "df_shares_data = alpaca.get_bars(\n",
    "    tickers,\n",
    "    timeframe,\n",
    "    start = today,\n",
    "    end = today\n",
    ").df\n",
    "\n",
    "# Reorganize the DataFrame\n",
    "# Separate ticker data\n",
    "agg_data = df_shares_data[df_shares_data['symbol']==\"AGG\"].drop('symbol', axis=1)\n",
    "spy_data = df_shares_data[df_shares_data['symbol']==\"SPY\"].drop('symbol', axis=1)\n",
    "\n",
    "# Concatenate the ticker DataFrames\n",
    "df_shares_data = pd.concat([agg_data, spy_data], axis=1, keys=['AGG', 'SPY'])\n",
    "\n",
    "# Preview DataFrame\n",
    "df_shares_data.head()"
   ]
  },
  {
   "cell_type": "code",
   "execution_count": 9,
   "metadata": {},
   "outputs": [
    {
     "name": "stdout",
     "output_type": "stream",
     "text": [
      "Current AGG closing price: $timestamp\n",
      "2023-03-21 04:00:00+00:00    98.8\n",
      "Name: close, dtype: float64\n",
      "Current SPY closing price: $timestamp\n",
      "2023-03-21 04:00:00+00:00    398.91\n",
      "Name: close, dtype: float64\n"
     ]
    }
   ],
   "source": [
    "# Pick AGG and SPY close prices\n",
    "agg_close_price = df_shares_data['AGG']['close']\n",
    "spy_close_price = df_shares_data['SPY']['close']\n",
    "\n",
    "# Print AGG and SPY close prices\n",
    "print(f\"Current AGG closing price: ${agg_close_price}\")\n",
    "print(f\"Current SPY closing price: ${spy_close_price}\")"
   ]
  },
  {
   "cell_type": "code",
   "execution_count": 10,
   "metadata": {},
   "outputs": [
    {
     "name": "stdout",
     "output_type": "stream",
     "text": [
      "The current value of your 50 SPY shares is $19945.50\n",
      "The current value of your 200 AGG shares is $19760.00\n"
     ]
    }
   ],
   "source": [
    "# Compute the current value of shares\n",
    "my_agg_value = my_agg*agg_close_price[0]\n",
    "my_spy_value = my_spy*spy_close_price[0]\n",
    "\n",
    "# Print current value of shares\n",
    "print(f\"The current value of your {my_spy} SPY shares is ${my_spy_value:0.2f}\")\n",
    "print(f\"The current value of your {my_agg} AGG shares is ${my_agg_value:0.2f}\")"
   ]
  },
  {
   "cell_type": "markdown",
   "metadata": {},
   "source": [
    "### Savings Health Analysis"
   ]
  },
  {
   "cell_type": "code",
   "execution_count": 11,
   "metadata": {},
   "outputs": [
    {
     "data": {
      "text/html": [
       "<div>\n",
       "<style scoped>\n",
       "    .dataframe tbody tr th:only-of-type {\n",
       "        vertical-align: middle;\n",
       "    }\n",
       "\n",
       "    .dataframe tbody tr th {\n",
       "        vertical-align: top;\n",
       "    }\n",
       "\n",
       "    .dataframe thead th {\n",
       "        text-align: right;\n",
       "    }\n",
       "</style>\n",
       "<table border=\"1\" class=\"dataframe\">\n",
       "  <thead>\n",
       "    <tr style=\"text-align: right;\">\n",
       "      <th></th>\n",
       "      <th>amount</th>\n",
       "    </tr>\n",
       "  </thead>\n",
       "  <tbody>\n",
       "    <tr>\n",
       "      <th>crypto</th>\n",
       "      <td>58993.525448</td>\n",
       "    </tr>\n",
       "    <tr>\n",
       "      <th>shares</th>\n",
       "      <td>39705.500000</td>\n",
       "    </tr>\n",
       "  </tbody>\n",
       "</table>\n",
       "</div>"
      ],
      "text/plain": [
       "              amount\n",
       "crypto  58993.525448\n",
       "shares  39705.500000"
      ]
     },
     "metadata": {},
     "output_type": "display_data"
    }
   ],
   "source": [
    "# Set monthly household income\n",
    "monthly_income = 12000\n",
    "\n",
    "# Consolidate financial assets data\n",
    "crypto = my_btc_value+my_eth_value\n",
    "shares = my_agg_value+my_spy_value\n",
    "\n",
    "# Create savings DataFrame\n",
    "df_savings = pd.DataFrame({'amount':[crypto, shares]}, index=['crypto', 'shares'])\n",
    "\n",
    "# Display savings DataFrame\n",
    "display(df_savings)"
   ]
  },
  {
   "cell_type": "code",
   "execution_count": 12,
   "metadata": {},
   "outputs": [
    {
     "data": {
      "text/plain": [
       "array([<AxesSubplot:ylabel='amount'>], dtype=object)"
      ]
     },
     "execution_count": 12,
     "metadata": {},
     "output_type": "execute_result"
    },
    {
     "data": {
      "image/png": "[encoded data removed]",
      "text/plain": [
       "<Figure size 640x480 with 1 Axes>"
      ]
     },
     "metadata": {},
     "output_type": "display_data"
    }
   ],
   "source": [
    "# Plot savings pie chart\n",
    "df_savings.plot.pie(legend=True, subplots=True)"
   ]
  },
  {
   "cell_type": "code",
   "execution_count": 13,
   "metadata": {},
   "outputs": [
    {
     "name": "stdout",
     "output_type": "stream",
     "text": [
      "Congratulations! You have enough savings in this fund for an emergency situation.\n"
     ]
    }
   ],
   "source": [
    "# Set ideal emergency fund\n",
    "emergency_fund = monthly_income * 3\n",
    "\n",
    "# Calculate total amount of savings\n",
    "total_savings = crypto+shares\n",
    "\n",
    "# Validate saving health\n",
    "if total_savings > emergency_fund:\n",
    "    print(\"Congratulations! You have enough savings in this fund for an emergency situation.\")\n",
    "elif total_savings == emergency_fund:\n",
    "    print(\"Congratulations on reaching your emergency savings goal!\")\n",
    "else:\n",
    "    print(f\"You are ${emergency_fund-total_savings} away from reaching your emergency savings goal.\")"
   ]
  },
  {
   "cell_type": "markdown",
   "metadata": {},
   "source": [
    "## Part 2 - Retirement Planning\n",
    "\n",
    "### Monte Carlo Simulation"
   ]
  },
  {
   "cell_type": "code",
   "execution_count": 14,
   "metadata": {},
   "outputs": [],
   "source": [
    "# Set start and end dates of five years back from today.\n",
    "# Sample results may vary from the solution based on the time frame chosen\n",
    "start_date = pd.Timestamp('2018-03-21', tz='America/New_York').isoformat()\n",
    "end_date = pd.Timestamp('2023-03-21', tz='America/New_York').isoformat()"
   ]
  },
  {
   "cell_type": "code",
   "execution_count": 15,
   "metadata": {},
   "outputs": [
    {
     "data": {
      "text/html": [
       "<div>\n",
       "<style scoped>\n",
       "    .dataframe tbody tr th:only-of-type {\n",
       "        vertical-align: middle;\n",
       "    }\n",
       "\n",
       "    .dataframe tbody tr th {\n",
       "        vertical-align: top;\n",
       "    }\n",
       "\n",
       "    .dataframe thead tr th {\n",
       "        text-align: left;\n",
       "    }\n",
       "\n",
       "    .dataframe thead tr:last-of-type th {\n",
       "        text-align: right;\n",
       "    }\n",
       "</style>\n",
       "<table border=\"1\" class=\"dataframe\">\n",
       "  <thead>\n",
       "    <tr>\n",
       "      <th></th>\n",
       "      <th colspan=\"7\" halign=\"left\">AGG</th>\n",
       "      <th colspan=\"7\" halign=\"left\">SPY</th>\n",
       "    </tr>\n",
       "    <tr>\n",
       "      <th></th>\n",
       "      <th>open</th>\n",
       "      <th>high</th>\n",
       "      <th>low</th>\n",
       "      <th>close</th>\n",
       "      <th>volume</th>\n",
       "      <th>trade_count</th>\n",
       "      <th>vwap</th>\n",
       "      <th>open</th>\n",
       "      <th>high</th>\n",
       "      <th>low</th>\n",
       "      <th>close</th>\n",
       "      <th>volume</th>\n",
       "      <th>trade_count</th>\n",
       "      <th>vwap</th>\n",
       "    </tr>\n",
       "    <tr>\n",
       "      <th>timestamp</th>\n",
       "      <th></th>\n",
       "      <th></th>\n",
       "      <th></th>\n",
       "      <th></th>\n",
       "      <th></th>\n",
       "      <th></th>\n",
       "      <th></th>\n",
       "      <th></th>\n",
       "      <th></th>\n",
       "      <th></th>\n",
       "      <th></th>\n",
       "      <th></th>\n",
       "      <th></th>\n",
       "      <th></th>\n",
       "    </tr>\n",
       "  </thead>\n",
       "  <tbody>\n",
       "    <tr>\n",
       "      <th>2018-03-21 04:00:00+00:00</th>\n",
       "      <td>106.32</td>\n",
       "      <td>106.48</td>\n",
       "      <td>106.08</td>\n",
       "      <td>106.41</td>\n",
       "      <td>2994423</td>\n",
       "      <td>13898</td>\n",
       "      <td>106.284005</td>\n",
       "      <td>270.90</td>\n",
       "      <td>273.27</td>\n",
       "      <td>270.19</td>\n",
       "      <td>270.400</td>\n",
       "      <td>78884438</td>\n",
       "      <td>330625</td>\n",
       "      <td>271.404380</td>\n",
       "    </tr>\n",
       "    <tr>\n",
       "      <th>2018-03-22 04:00:00+00:00</th>\n",
       "      <td>106.67</td>\n",
       "      <td>106.80</td>\n",
       "      <td>106.49</td>\n",
       "      <td>106.61</td>\n",
       "      <td>3334408</td>\n",
       "      <td>13773</td>\n",
       "      <td>106.616043</td>\n",
       "      <td>267.91</td>\n",
       "      <td>268.87</td>\n",
       "      <td>263.36</td>\n",
       "      <td>263.710</td>\n",
       "      <td>149493729</td>\n",
       "      <td>577825</td>\n",
       "      <td>266.129101</td>\n",
       "    </tr>\n",
       "    <tr>\n",
       "      <th>2018-03-23 04:00:00+00:00</th>\n",
       "      <td>106.46</td>\n",
       "      <td>106.70</td>\n",
       "      <td>106.46</td>\n",
       "      <td>106.61</td>\n",
       "      <td>3618720</td>\n",
       "      <td>11823</td>\n",
       "      <td>106.607241</td>\n",
       "      <td>264.17</td>\n",
       "      <td>265.02</td>\n",
       "      <td>257.83</td>\n",
       "      <td>258.015</td>\n",
       "      <td>183856351</td>\n",
       "      <td>624778</td>\n",
       "      <td>261.280967</td>\n",
       "    </tr>\n",
       "    <tr>\n",
       "      <th>2018-03-26 04:00:00+00:00</th>\n",
       "      <td>106.64</td>\n",
       "      <td>106.71</td>\n",
       "      <td>106.47</td>\n",
       "      <td>106.57</td>\n",
       "      <td>4546535</td>\n",
       "      <td>19722</td>\n",
       "      <td>106.583861</td>\n",
       "      <td>262.13</td>\n",
       "      <td>265.43</td>\n",
       "      <td>259.41</td>\n",
       "      <td>265.140</td>\n",
       "      <td>143141239</td>\n",
       "      <td>450168</td>\n",
       "      <td>262.353110</td>\n",
       "    </tr>\n",
       "    <tr>\n",
       "      <th>2018-03-27 04:00:00+00:00</th>\n",
       "      <td>106.63</td>\n",
       "      <td>106.95</td>\n",
       "      <td>106.61</td>\n",
       "      <td>106.88</td>\n",
       "      <td>4566884</td>\n",
       "      <td>14293</td>\n",
       "      <td>106.826049</td>\n",
       "      <td>266.17</td>\n",
       "      <td>266.77</td>\n",
       "      <td>258.84</td>\n",
       "      <td>260.760</td>\n",
       "      <td>130806695</td>\n",
       "      <td>538201</td>\n",
       "      <td>263.145788</td>\n",
       "    </tr>\n",
       "  </tbody>\n",
       "</table>\n",
       "</div>"
      ],
      "text/plain": [
       "                              AGG                                   \\\n",
       "                             open    high     low   close   volume   \n",
       "timestamp                                                            \n",
       "2018-03-21 04:00:00+00:00  106.32  106.48  106.08  106.41  2994423   \n",
       "2018-03-22 04:00:00+00:00  106.67  106.80  106.49  106.61  3334408   \n",
       "2018-03-23 04:00:00+00:00  106.46  106.70  106.46  106.61  3618720   \n",
       "2018-03-26 04:00:00+00:00  106.64  106.71  106.47  106.57  4546535   \n",
       "2018-03-27 04:00:00+00:00  106.63  106.95  106.61  106.88  4566884   \n",
       "\n",
       "                                                      SPY                  \\\n",
       "                          trade_count        vwap    open    high     low   \n",
       "timestamp                                                                   \n",
       "2018-03-21 04:00:00+00:00       13898  106.284005  270.90  273.27  270.19   \n",
       "2018-03-22 04:00:00+00:00       13773  106.616043  267.91  268.87  263.36   \n",
       "2018-03-23 04:00:00+00:00       11823  106.607241  264.17  265.02  257.83   \n",
       "2018-03-26 04:00:00+00:00       19722  106.583861  262.13  265.43  259.41   \n",
       "2018-03-27 04:00:00+00:00       14293  106.826049  266.17  266.77  258.84   \n",
       "\n",
       "                                                                       \n",
       "                             close     volume trade_count        vwap  \n",
       "timestamp                                                              \n",
       "2018-03-21 04:00:00+00:00  270.400   78884438      330625  271.404380  \n",
       "2018-03-22 04:00:00+00:00  263.710  149493729      577825  266.129101  \n",
       "2018-03-23 04:00:00+00:00  258.015  183856351      624778  261.280967  \n",
       "2018-03-26 04:00:00+00:00  265.140  143141239      450168  262.353110  \n",
       "2018-03-27 04:00:00+00:00  260.760  130806695      538201  263.145788  "
      ]
     },
     "execution_count": 15,
     "metadata": {},
     "output_type": "execute_result"
    }
   ],
   "source": [
    "# Get 5 years' worth of historical data for SPY and AGG\n",
    "df_stock_data = alpaca.get_bars(\n",
    "    tickers,\n",
    "    timeframe,\n",
    "    start = start_date,\n",
    "    end = end_date\n",
    ").df\n",
    "\n",
    "# Reorganize the DataFrame\n",
    "# Separate ticker data\n",
    "agg_historical_data = df_stock_data[df_stock_data['symbol']==\"AGG\"].drop('symbol', axis=1)\n",
    "spy_historical_data = df_stock_data[df_stock_data['symbol']==\"SPY\"].drop('symbol', axis=1)\n",
    "\n",
    "# Concatenate the ticker DataFrames\n",
    "df_stock_data = pd.concat([agg_historical_data, spy_historical_data], axis=1, keys=['AGG', 'SPY'])\n",
    "\n",
    "# Display sample data\n",
    "df_stock_data.head()"
   ]
  },
  {
   "cell_type": "code",
   "execution_count": 16,
   "metadata": {},
   "outputs": [],
   "source": [
    "# Configuring a Monte Carlo simulation to forecast 30 years cumulative returns\n",
    "num_sims = 500\n",
    "num_days = 252*30\n",
    "weights = [0.4, 0.6]\n",
    "\n",
    "mc_stocks = MCSimulation(\n",
    "    portfolio_data=df_stock_data,\n",
    "    weights=weights,\n",
    "    num_simulation=num_sims,\n",
    "    num_trading_days=num_days\n",
    ")"
   ]
  },
  {
   "cell_type": "code",
   "execution_count": 17,
   "metadata": {},
   "outputs": [
    {
     "name": "stdout",
     "output_type": "stream",
     "text": [
      "Portfolio sample data:                               AGG                                   \\\n",
      "                             open    high     low   close   volume   \n",
      "timestamp                                                            \n",
      "2018-03-21 04:00:00+00:00  106.32  106.48  106.08  106.41  2994423   \n",
      "2018-03-22 04:00:00+00:00  106.67  106.80  106.49  106.61  3334408   \n",
      "2018-03-23 04:00:00+00:00  106.46  106.70  106.46  106.61  3618720   \n",
      "2018-03-26 04:00:00+00:00  106.64  106.71  106.47  106.57  4546535   \n",
      "2018-03-27 04:00:00+00:00  106.63  106.95  106.61  106.88  4566884   \n",
      "\n",
      "                                                      SPY                  \\\n",
      "                          trade_count        vwap    open    high     low   \n",
      "timestamp                                                                   \n",
      "2018-03-21 04:00:00+00:00       13898  106.284005  270.90  273.27  270.19   \n",
      "2018-03-22 04:00:00+00:00       13773  106.616043  267.91  268.87  263.36   \n",
      "2018-03-23 04:00:00+00:00       11823  106.607241  264.17  265.02  257.83   \n",
      "2018-03-26 04:00:00+00:00       19722  106.583861  262.13  265.43  259.41   \n",
      "2018-03-27 04:00:00+00:00       14293  106.826049  266.17  266.77  258.84   \n",
      "\n",
      "                                                                       \n",
      "                             close     volume trade_count        vwap  \n",
      "timestamp                                                              \n",
      "2018-03-21 04:00:00+00:00  270.400   78884438      330625  271.404380  \n",
      "2018-03-22 04:00:00+00:00  263.710  149493729      577825  266.129101  \n",
      "2018-03-23 04:00:00+00:00  258.015  183856351      624778  261.280967  \n",
      "2018-03-26 04:00:00+00:00  265.140  143141239      450168  262.353110  \n",
      "2018-03-27 04:00:00+00:00  260.760  130806695      538201  263.145788  \n",
      "Bonds/stocks weighting: 40.0%/60.0%\n",
      "Number of simulations: 500\n",
      "Number of trading days: 7560\n"
     ]
    }
   ],
   "source": [
    "# Printing the simulation input data\n",
    "print(f\"Portfolio sample data: {df_stock_data.head()}\")\n",
    "print(f\"Bonds/stocks weighting: {weights[0]*100}%/{weights[1]*100}%\")\n",
    "print(f\"Number of simulations: {num_sims}\")\n",
    "print(f\"Number of trading days: {num_days}\")"
   ]
  },
  {
   "cell_type": "code",
   "execution_count": 18,
   "metadata": {},
   "outputs": [
    {
     "name": "stdout",
     "output_type": "stream",
     "text": [
      "Running Monte Carlo simulation number 0.\n",
      "Running Monte Carlo simulation number 10.\n",
      "Running Monte Carlo simulation number 20.\n",
      "Running Monte Carlo simulation number 30.\n",
      "Running Monte Carlo simulation number 40.\n",
      "Running Monte Carlo simulation number 50.\n",
      "Running Monte Carlo simulation number 60.\n",
      "Running Monte Carlo simulation number 70.\n",
      "Running Monte Carlo simulation number 80.\n",
      "Running Monte Carlo simulation number 90.\n",
      "Running Monte Carlo simulation number 100.\n"
     ]
    },
    {
     "name": "stderr",
     "output_type": "stream",
     "text": [
      "C:\\Users\\Julian\\Documents\\FinTech\\Module 5\\apis-homework\\MCForecastTools.py:117: PerformanceWarning: DataFrame is highly fragmented.  This is usually the result of calling `frame.insert` many times, which has poor performance.  Consider joining all columns at once using pd.concat(axis=1) instead.  To get a de-fragmented frame, use `newframe = frame.copy()`\n",
      "  portfolio_cumulative_returns[n] = (1 + sim_df.fillna(0)).cumprod()\n"
     ]
    },
    {
     "name": "stdout",
     "output_type": "stream",
     "text": [
      "Running Monte Carlo simulation number 110.\n",
      "Running Monte Carlo simulation number 120.\n",
      "Running Monte Carlo simulation number 130.\n",
      "Running Monte Carlo simulation number 140.\n",
      "Running Monte Carlo simulation number 150.\n",
      "Running Monte Carlo simulation number 160.\n",
      "Running Monte Carlo simulation number 170.\n",
      "Running Monte Carlo simulation number 180.\n",
      "Running Monte Carlo simulation number 190.\n",
      "Running Monte Carlo simulation number 200.\n",
      "Running Monte Carlo simulation number 210.\n",
      "Running Monte Carlo simulation number 220.\n",
      "Running Monte Carlo simulation number 230.\n",
      "Running Monte Carlo simulation number 240.\n",
      "Running Monte Carlo simulation number 250.\n",
      "Running Monte Carlo simulation number 260.\n",
      "Running Monte Carlo simulation number 270.\n",
      "Running Monte Carlo simulation number 280.\n",
      "Running Monte Carlo simulation number 290.\n",
      "Running Monte Carlo simulation number 300.\n",
      "Running Monte Carlo simulation number 310.\n",
      "Running Monte Carlo simulation number 320.\n",
      "Running Monte Carlo simulation number 330.\n",
      "Running Monte Carlo simulation number 340.\n",
      "Running Monte Carlo simulation number 350.\n",
      "Running Monte Carlo simulation number 360.\n",
      "Running Monte Carlo simulation number 370.\n",
      "Running Monte Carlo simulation number 380.\n",
      "Running Monte Carlo simulation number 390.\n",
      "Running Monte Carlo simulation number 400.\n",
      "Running Monte Carlo simulation number 410.\n",
      "Running Monte Carlo simulation number 420.\n",
      "Running Monte Carlo simulation number 430.\n",
      "Running Monte Carlo simulation number 440.\n",
      "Running Monte Carlo simulation number 450.\n",
      "Running Monte Carlo simulation number 460.\n",
      "Running Monte Carlo simulation number 470.\n",
      "Running Monte Carlo simulation number 480.\n",
      "Running Monte Carlo simulation number 490.\n"
     ]
    },
    {
     "data": {
      "text/html": [
       "<div>\n",
       "<style scoped>\n",
       "    .dataframe tbody tr th:only-of-type {\n",
       "        vertical-align: middle;\n",
       "    }\n",
       "\n",
       "    .dataframe tbody tr th {\n",
       "        vertical-align: top;\n",
       "    }\n",
       "\n",
       "    .dataframe thead th {\n",
       "        text-align: right;\n",
       "    }\n",
       "</style>\n",
       "<table border=\"1\" class=\"dataframe\">\n",
       "  <thead>\n",
       "    <tr style=\"text-align: right;\">\n",
       "      <th></th>\n",
       "      <th>0</th>\n",
       "      <th>1</th>\n",
       "      <th>2</th>\n",
       "      <th>3</th>\n",
       "      <th>4</th>\n",
       "      <th>5</th>\n",
       "      <th>6</th>\n",
       "      <th>7</th>\n",
       "      <th>8</th>\n",
       "      <th>9</th>\n",
       "      <th>...</th>\n",
       "      <th>490</th>\n",
       "      <th>491</th>\n",
       "      <th>492</th>\n",
       "      <th>493</th>\n",
       "      <th>494</th>\n",
       "      <th>495</th>\n",
       "      <th>496</th>\n",
       "      <th>497</th>\n",
       "      <th>498</th>\n",
       "      <th>499</th>\n",
       "    </tr>\n",
       "  </thead>\n",
       "  <tbody>\n",
       "    <tr>\n",
       "      <th>0</th>\n",
       "      <td>1.000000</td>\n",
       "      <td>1.000000</td>\n",
       "      <td>1.000000</td>\n",
       "      <td>1.000000</td>\n",
       "      <td>1.000000</td>\n",
       "      <td>1.000000</td>\n",
       "      <td>1.000000</td>\n",
       "      <td>1.000000</td>\n",
       "      <td>1.000000</td>\n",
       "      <td>1.000000</td>\n",
       "      <td>...</td>\n",
       "      <td>1.000000</td>\n",
       "      <td>1.000000</td>\n",
       "      <td>1.000000</td>\n",
       "      <td>1.000000</td>\n",
       "      <td>1.000000</td>\n",
       "      <td>1.000000</td>\n",
       "      <td>1.000000</td>\n",
       "      <td>1.000000</td>\n",
       "      <td>1.000000</td>\n",
       "      <td>1.000000</td>\n",
       "    </tr>\n",
       "    <tr>\n",
       "      <th>1</th>\n",
       "      <td>0.991095</td>\n",
       "      <td>0.996821</td>\n",
       "      <td>1.004636</td>\n",
       "      <td>1.000575</td>\n",
       "      <td>1.000541</td>\n",
       "      <td>1.013570</td>\n",
       "      <td>0.998386</td>\n",
       "      <td>1.004911</td>\n",
       "      <td>0.980486</td>\n",
       "      <td>1.008809</td>\n",
       "      <td>...</td>\n",
       "      <td>0.989702</td>\n",
       "      <td>0.996380</td>\n",
       "      <td>1.002441</td>\n",
       "      <td>1.011306</td>\n",
       "      <td>1.000463</td>\n",
       "      <td>1.000070</td>\n",
       "      <td>0.988179</td>\n",
       "      <td>1.005457</td>\n",
       "      <td>0.988617</td>\n",
       "      <td>1.008025</td>\n",
       "    </tr>\n",
       "    <tr>\n",
       "      <th>2</th>\n",
       "      <td>1.002290</td>\n",
       "      <td>1.004585</td>\n",
       "      <td>0.995980</td>\n",
       "      <td>0.996396</td>\n",
       "      <td>1.008060</td>\n",
       "      <td>1.016334</td>\n",
       "      <td>0.980063</td>\n",
       "      <td>1.014441</td>\n",
       "      <td>0.971947</td>\n",
       "      <td>1.002907</td>\n",
       "      <td>...</td>\n",
       "      <td>0.991677</td>\n",
       "      <td>0.989873</td>\n",
       "      <td>1.006190</td>\n",
       "      <td>1.010371</td>\n",
       "      <td>1.000089</td>\n",
       "      <td>0.985243</td>\n",
       "      <td>0.992533</td>\n",
       "      <td>1.007912</td>\n",
       "      <td>0.978022</td>\n",
       "      <td>1.012709</td>\n",
       "    </tr>\n",
       "    <tr>\n",
       "      <th>3</th>\n",
       "      <td>1.012869</td>\n",
       "      <td>1.011139</td>\n",
       "      <td>1.000274</td>\n",
       "      <td>0.986894</td>\n",
       "      <td>1.019347</td>\n",
       "      <td>1.012752</td>\n",
       "      <td>0.982670</td>\n",
       "      <td>1.018392</td>\n",
       "      <td>0.970723</td>\n",
       "      <td>1.003198</td>\n",
       "      <td>...</td>\n",
       "      <td>0.984437</td>\n",
       "      <td>0.980756</td>\n",
       "      <td>0.999700</td>\n",
       "      <td>1.018883</td>\n",
       "      <td>0.998746</td>\n",
       "      <td>0.983541</td>\n",
       "      <td>0.997428</td>\n",
       "      <td>1.004817</td>\n",
       "      <td>0.964068</td>\n",
       "      <td>1.015435</td>\n",
       "    </tr>\n",
       "    <tr>\n",
       "      <th>4</th>\n",
       "      <td>1.003640</td>\n",
       "      <td>0.999975</td>\n",
       "      <td>0.996645</td>\n",
       "      <td>0.987468</td>\n",
       "      <td>1.035964</td>\n",
       "      <td>1.015698</td>\n",
       "      <td>0.962971</td>\n",
       "      <td>1.014315</td>\n",
       "      <td>0.964877</td>\n",
       "      <td>1.008090</td>\n",
       "      <td>...</td>\n",
       "      <td>0.988594</td>\n",
       "      <td>0.976604</td>\n",
       "      <td>1.002309</td>\n",
       "      <td>1.009090</td>\n",
       "      <td>1.010018</td>\n",
       "      <td>0.989202</td>\n",
       "      <td>0.987735</td>\n",
       "      <td>1.006180</td>\n",
       "      <td>0.953876</td>\n",
       "      <td>1.013273</td>\n",
       "    </tr>\n",
       "    <tr>\n",
       "      <th>...</th>\n",
       "      <td>...</td>\n",
       "      <td>...</td>\n",
       "      <td>...</td>\n",
       "      <td>...</td>\n",
       "      <td>...</td>\n",
       "      <td>...</td>\n",
       "      <td>...</td>\n",
       "      <td>...</td>\n",
       "      <td>...</td>\n",
       "      <td>...</td>\n",
       "      <td>...</td>\n",
       "      <td>...</td>\n",
       "      <td>...</td>\n",
       "      <td>...</td>\n",
       "      <td>...</td>\n",
       "      <td>...</td>\n",
       "      <td>...</td>\n",
       "      <td>...</td>\n",
       "      <td>...</td>\n",
       "      <td>...</td>\n",
       "      <td>...</td>\n",
       "    </tr>\n",
       "    <tr>\n",
       "      <th>7556</th>\n",
       "      <td>10.109443</td>\n",
       "      <td>1.613519</td>\n",
       "      <td>3.286875</td>\n",
       "      <td>3.274323</td>\n",
       "      <td>1.137542</td>\n",
       "      <td>2.736677</td>\n",
       "      <td>4.096071</td>\n",
       "      <td>3.022520</td>\n",
       "      <td>1.938097</td>\n",
       "      <td>4.054040</td>\n",
       "      <td>...</td>\n",
       "      <td>2.332467</td>\n",
       "      <td>2.146112</td>\n",
       "      <td>2.137321</td>\n",
       "      <td>5.356930</td>\n",
       "      <td>1.243602</td>\n",
       "      <td>1.516891</td>\n",
       "      <td>3.940380</td>\n",
       "      <td>2.278932</td>\n",
       "      <td>3.330259</td>\n",
       "      <td>1.913283</td>\n",
       "    </tr>\n",
       "    <tr>\n",
       "      <th>7557</th>\n",
       "      <td>10.314060</td>\n",
       "      <td>1.609246</td>\n",
       "      <td>3.275791</td>\n",
       "      <td>3.248253</td>\n",
       "      <td>1.135972</td>\n",
       "      <td>2.744014</td>\n",
       "      <td>4.064945</td>\n",
       "      <td>3.000301</td>\n",
       "      <td>1.899822</td>\n",
       "      <td>4.041139</td>\n",
       "      <td>...</td>\n",
       "      <td>2.348284</td>\n",
       "      <td>2.164969</td>\n",
       "      <td>2.129535</td>\n",
       "      <td>5.253454</td>\n",
       "      <td>1.233722</td>\n",
       "      <td>1.525025</td>\n",
       "      <td>3.926255</td>\n",
       "      <td>2.268431</td>\n",
       "      <td>3.352998</td>\n",
       "      <td>1.878695</td>\n",
       "    </tr>\n",
       "    <tr>\n",
       "      <th>7558</th>\n",
       "      <td>10.347645</td>\n",
       "      <td>1.617235</td>\n",
       "      <td>3.310731</td>\n",
       "      <td>3.324968</td>\n",
       "      <td>1.130984</td>\n",
       "      <td>2.743074</td>\n",
       "      <td>4.097113</td>\n",
       "      <td>3.008259</td>\n",
       "      <td>1.909761</td>\n",
       "      <td>4.076447</td>\n",
       "      <td>...</td>\n",
       "      <td>2.325623</td>\n",
       "      <td>2.205142</td>\n",
       "      <td>2.130557</td>\n",
       "      <td>5.219098</td>\n",
       "      <td>1.252032</td>\n",
       "      <td>1.512747</td>\n",
       "      <td>3.959528</td>\n",
       "      <td>2.237125</td>\n",
       "      <td>3.343580</td>\n",
       "      <td>1.901491</td>\n",
       "    </tr>\n",
       "    <tr>\n",
       "      <th>7559</th>\n",
       "      <td>10.457679</td>\n",
       "      <td>1.582933</td>\n",
       "      <td>3.312761</td>\n",
       "      <td>3.269069</td>\n",
       "      <td>1.114892</td>\n",
       "      <td>2.763055</td>\n",
       "      <td>4.127885</td>\n",
       "      <td>3.008895</td>\n",
       "      <td>1.914034</td>\n",
       "      <td>4.046549</td>\n",
       "      <td>...</td>\n",
       "      <td>2.346657</td>\n",
       "      <td>2.192026</td>\n",
       "      <td>2.126358</td>\n",
       "      <td>5.210172</td>\n",
       "      <td>1.245752</td>\n",
       "      <td>1.503670</td>\n",
       "      <td>3.982151</td>\n",
       "      <td>2.251523</td>\n",
       "      <td>3.310146</td>\n",
       "      <td>1.909561</td>\n",
       "    </tr>\n",
       "    <tr>\n",
       "      <th>7560</th>\n",
       "      <td>10.387044</td>\n",
       "      <td>1.568156</td>\n",
       "      <td>3.327392</td>\n",
       "      <td>3.261198</td>\n",
       "      <td>1.099853</td>\n",
       "      <td>2.739138</td>\n",
       "      <td>4.153295</td>\n",
       "      <td>3.006375</td>\n",
       "      <td>1.923645</td>\n",
       "      <td>4.111631</td>\n",
       "      <td>...</td>\n",
       "      <td>2.334649</td>\n",
       "      <td>2.192734</td>\n",
       "      <td>2.141793</td>\n",
       "      <td>5.223719</td>\n",
       "      <td>1.254832</td>\n",
       "      <td>1.511117</td>\n",
       "      <td>3.951554</td>\n",
       "      <td>2.271699</td>\n",
       "      <td>3.311349</td>\n",
       "      <td>1.930336</td>\n",
       "    </tr>\n",
       "  </tbody>\n",
       "</table>\n",
       "<p>7561 rows × 500 columns</p>\n",
       "</div>"
      ],
      "text/plain": [
       "            0         1         2         3         4         5         6    \\\n",
       "0      1.000000  1.000000  1.000000  1.000000  1.000000  1.000000  1.000000   \n",
       "1      0.991095  0.996821  1.004636  1.000575  1.000541  1.013570  0.998386   \n",
       "2      1.002290  1.004585  0.995980  0.996396  1.008060  1.016334  0.980063   \n",
       "3      1.012869  1.011139  1.000274  0.986894  1.019347  1.012752  0.982670   \n",
       "4      1.003640  0.999975  0.996645  0.987468  1.035964  1.015698  0.962971   \n",
       "...         ...       ...       ...       ...       ...       ...       ...   \n",
       "7556  10.109443  1.613519  3.286875  3.274323  1.137542  2.736677  4.096071   \n",
       "7557  10.314060  1.609246  3.275791  3.248253  1.135972  2.744014  4.064945   \n",
       "7558  10.347645  1.617235  3.310731  3.324968  1.130984  2.743074  4.097113   \n",
       "7559  10.457679  1.582933  3.312761  3.269069  1.114892  2.763055  4.127885   \n",
       "7560  10.387044  1.568156  3.327392  3.261198  1.099853  2.739138  4.153295   \n",
       "\n",
       "           7         8         9    ...       490       491       492  \\\n",
       "0     1.000000  1.000000  1.000000  ...  1.000000  1.000000  1.000000   \n",
       "1     1.004911  0.980486  1.008809  ...  0.989702  0.996380  1.002441   \n",
       "2     1.014441  0.971947  1.002907  ...  0.991677  0.989873  1.006190   \n",
       "3     1.018392  0.970723  1.003198  ...  0.984437  0.980756  0.999700   \n",
       "4     1.014315  0.964877  1.008090  ...  0.988594  0.976604  1.002309   \n",
       "...        ...       ...       ...  ...       ...       ...       ...   \n",
       "7556  3.022520  1.938097  4.054040  ...  2.332467  2.146112  2.137321   \n",
       "7557  3.000301  1.899822  4.041139  ...  2.348284  2.164969  2.129535   \n",
       "7558  3.008259  1.909761  4.076447  ...  2.325623  2.205142  2.130557   \n",
       "7559  3.008895  1.914034  4.046549  ...  2.346657  2.192026  2.126358   \n",
       "7560  3.006375  1.923645  4.111631  ...  2.334649  2.192734  2.141793   \n",
       "\n",
       "           493       494       495       496       497       498       499  \n",
       "0     1.000000  1.000000  1.000000  1.000000  1.000000  1.000000  1.000000  \n",
       "1     1.011306  1.000463  1.000070  0.988179  1.005457  0.988617  1.008025  \n",
       "2     1.010371  1.000089  0.985243  0.992533  1.007912  0.978022  1.012709  \n",
       "3     1.018883  0.998746  0.983541  0.997428  1.004817  0.964068  1.015435  \n",
       "4     1.009090  1.010018  0.989202  0.987735  1.006180  0.953876  1.013273  \n",
       "...        ...       ...       ...       ...       ...       ...       ...  \n",
       "7556  5.356930  1.243602  1.516891  3.940380  2.278932  3.330259  1.913283  \n",
       "7557  5.253454  1.233722  1.525025  3.926255  2.268431  3.352998  1.878695  \n",
       "7558  5.219098  1.252032  1.512747  3.959528  2.237125  3.343580  1.901491  \n",
       "7559  5.210172  1.245752  1.503670  3.982151  2.251523  3.310146  1.909561  \n",
       "7560  5.223719  1.254832  1.511117  3.951554  2.271699  3.311349  1.930336  \n",
       "\n",
       "[7561 rows x 500 columns]"
      ]
     },
     "execution_count": 18,
     "metadata": {},
     "output_type": "execute_result"
    }
   ],
   "source": [
    "# Running a Monte Carlo simulation to forecast 30 years cumulative returns\n",
    "mc_stocks.calc_cumulative_return() "
   ]
  },
  {
   "cell_type": "code",
   "execution_count": 19,
   "metadata": {},
   "outputs": [
    {
     "data": {
      "image/png": "[encoded data removed]",
      "text/plain": [
       "<Figure size 640x480 with 1 Axes>"
      ]
     },
     "metadata": {},
     "output_type": "display_data"
    }
   ],
   "source": [
    "# Plot simulation outcomes\n",
    "sim_line_plot = mc_stocks.plot_simulation()"
   ]
  },
  {
   "cell_type": "code",
   "execution_count": 20,
   "metadata": {},
   "outputs": [
    {
     "data": {
      "image/png": "[encoded data removed]",
      "text/plain": [
       "<Figure size 640x480 with 1 Axes>"
      ]
     },
     "metadata": {},
     "output_type": "display_data"
    }
   ],
   "source": [
    "# Plot probability distribution and confidence intervals\n",
    "sim_dist_plot = mc_stocks.plot_distribution()"
   ]
  },
  {
   "cell_type": "markdown",
   "metadata": {},
   "source": [
    "### Retirement Analysis"
   ]
  },
  {
   "cell_type": "code",
   "execution_count": 21,
   "metadata": {},
   "outputs": [
    {
     "name": "stdout",
     "output_type": "stream",
     "text": [
      "count           500.000000\n",
      "mean              5.144293\n",
      "std               4.176545\n",
      "min               0.228191\n",
      "25%               2.350809\n",
      "50%               3.939705\n",
      "75%               6.499517\n",
      "max              32.207854\n",
      "95% CI Lower      1.006188\n",
      "95% CI Upper     15.853679\n",
      "Name: 7560, dtype: float64\n"
     ]
    }
   ],
   "source": [
    "# Fetch summary statistics from the Monte Carlo simulation results\n",
    "sim_summary_stats = mc_stocks.summarize_cumulative_return()\n",
    "\n",
    "# Print summary statistics\n",
    "print(sim_summary_stats)"
   ]
  },
  {
   "cell_type": "markdown",
   "metadata": {},
   "source": [
    "### Calculate the expected portfolio return at the `95%` lower and upper confidence intervals based on a `$20,000` initial investment."
   ]
  },
  {
   "cell_type": "code",
   "execution_count": 22,
   "metadata": {},
   "outputs": [
    {
     "name": "stdout",
     "output_type": "stream",
     "text": [
      "There is a 95% chance that an initial investment of $20000 in the portfolio over the next 30 years will end within in the range of $20123.77 and $317073.57\n"
     ]
    }
   ],
   "source": [
    "# Set initial investment\n",
    "initial_investment = 20000\n",
    "\n",
    "# Use the lower and upper `95%` confidence intervals to calculate the range of the possible outcomes of our $20,000\n",
    "ci_lower = round(sim_summary_stats[8]*initial_investment, 2)\n",
    "ci_upper = round(sim_summary_stats[9]*initial_investment, 2)\n",
    "\n",
    "# Print results\n",
    "print(f\"There is a 95% chance that an initial investment of ${initial_investment} in the portfolio\"\n",
    "      f\" over the next 30 years will end within in the range of\"\n",
    "      f\" ${ci_lower} and ${ci_upper}\")"
   ]
  },
  {
   "cell_type": "markdown",
   "metadata": {},
   "source": [
    "### Calculate the expected portfolio return at the `95%` lower and upper confidence intervals based on a `50%` increase in the initial investment."
   ]
  },
  {
   "cell_type": "code",
   "execution_count": 23,
   "metadata": {},
   "outputs": [
    {
     "name": "stdout",
     "output_type": "stream",
     "text": [
      "There is a 95% chance that an initial investment of $30000.0 in the portfolio over the next 30 years will end within in the range of $30185.65 and $475610.36\n"
     ]
    }
   ],
   "source": [
    "# Set initial investment\n",
    "initial_investment = 20000 * 1.5\n",
    "\n",
    "# Use the lower and upper `95%` confidence intervals to calculate the range of the possible outcomes of our $30,000\n",
    "ci_lower = round(sim_summary_stats[8]*initial_investment, 2)\n",
    "ci_upper = round(sim_summary_stats[9]*initial_investment, 2)\n",
    "\n",
    "# Print results\n",
    "print(f\"There is a 95% chance that an initial investment of ${initial_investment} in the portfolio\"\n",
    "      f\" over the next 30 years will end within in the range of\"\n",
    "      f\" ${ci_lower} and ${ci_upper}\")"
   ]
  },
  {
   "cell_type": "markdown",
   "metadata": {},
   "source": [
    "## Optional Challenge - Early Retirement\n",
    "\n",
    "\n",
    "### Five Years Retirement Option"
   ]
  },
  {
   "cell_type": "code",
   "execution_count": 24,
   "metadata": {},
   "outputs": [],
   "source": [
    "# Configuring a Monte Carlo simulation to forecast 5 years cumulative returns\n",
    "# YOUR CODE HERE!"
   ]
  },
  {
   "cell_type": "code",
   "execution_count": 25,
   "metadata": {},
   "outputs": [],
   "source": [
    "# Running a Monte Carlo simulation to forecast 5 years cumulative returns\n",
    "# YOUR CODE HERE!"
   ]
  },
  {
   "cell_type": "code",
   "execution_count": 26,
   "metadata": {},
   "outputs": [],
   "source": [
    "# Plot simulation outcomes\n",
    "# YOUR CODE HERE!"
   ]
  },
  {
   "cell_type": "code",
   "execution_count": 27,
   "metadata": {},
   "outputs": [],
   "source": [
    "# Plot probability distribution and confidence intervals\n",
    "# YOUR CODE HERE!"
   ]
  },
  {
   "cell_type": "code",
   "execution_count": 28,
   "metadata": {},
   "outputs": [],
   "source": [
    "# Fetch summary statistics from the Monte Carlo simulation results\n",
    "# YOUR CODE HERE!\n",
    "\n",
    "# Print summary statistics\n",
    "# YOUR CODE HERE!"
   ]
  },
  {
   "cell_type": "code",
   "execution_count": 29,
   "metadata": {},
   "outputs": [
    {
     "ename": "NameError",
     "evalue": "name 'ci_lower_five' is not defined",
     "output_type": "error",
     "traceback": [
      "\u001b[1;31m---------------------------------------------------------------------------\u001b[0m",
      "\u001b[1;31mNameError\u001b[0m                                 Traceback (most recent call last)",
      "\u001b[1;32m~\\AppData\\Local\\Temp\\ipykernel_6568\\2498605119.py\u001b[0m in \u001b[0;36m<module>\u001b[1;34m\u001b[0m\n\u001b[0;32m      6\u001b[0m \u001b[1;33m\u001b[0m\u001b[0m\n\u001b[0;32m      7\u001b[0m \u001b[1;31m# Print results\u001b[0m\u001b[1;33m\u001b[0m\u001b[1;33m\u001b[0m\u001b[1;33m\u001b[0m\u001b[0m\n\u001b[1;32m----> 8\u001b[1;33m print(f\"There is a 95% chance that an initial investment of ${initial_investment} in the portfolio\"\n\u001b[0m\u001b[0;32m      9\u001b[0m       \u001b[1;34mf\" over the next 5 years will end within in the range of\"\u001b[0m\u001b[1;33m\u001b[0m\u001b[1;33m\u001b[0m\u001b[0m\n\u001b[0;32m     10\u001b[0m       f\" ${ci_lower_five} and ${ci_upper_five}\")\n",
      "\u001b[1;31mNameError\u001b[0m: name 'ci_lower_five' is not defined"
     ]
    }
   ],
   "source": [
    "# Set initial investment\n",
    "# YOUR CODE HERE!\n",
    "\n",
    "# Use the lower and upper `95%` confidence intervals to calculate the range of the possible outcomes of our $60,000\n",
    "# YOUR CODE HERE!\n",
    "\n",
    "# Print results\n",
    "print(f\"There is a 95% chance that an initial investment of ${initial_investment} in the portfolio\"\n",
    "      f\" over the next 5 years will end within in the range of\"\n",
    "      f\" ${ci_lower_five} and ${ci_upper_five}\")"
   ]
  },
  {
   "cell_type": "markdown",
   "metadata": {},
   "source": [
    "### Ten Years Retirement Option"
   ]
  },
  {
   "cell_type": "code",
   "execution_count": null,
   "metadata": {},
   "outputs": [],
   "source": [
    "# Configuring a Monte Carlo simulation to forecast 10 years cumulative returns\n",
    "# YOUR CODE HERE!"
   ]
  },
  {
   "cell_type": "code",
   "execution_count": null,
   "metadata": {},
   "outputs": [],
   "source": [
    "# Running a Monte Carlo simulation to forecast 10 years cumulative returns\n",
    "# YOUR CODE HERE!"
   ]
  },
  {
   "cell_type": "code",
   "execution_count": null,
   "metadata": {},
   "outputs": [],
   "source": [
    "# Plot simulation outcomes\n",
    "# YOUR CODE HERE!"
   ]
  },
  {
   "cell_type": "code",
   "execution_count": null,
   "metadata": {},
   "outputs": [],
   "source": [
    "# Plot probability distribution and confidence intervals\n",
    "# YOUR CODE HERE!"
   ]
  },
  {
   "cell_type": "code",
   "execution_count": null,
   "metadata": {},
   "outputs": [],
   "source": [
    "# Fetch summary statistics from the Monte Carlo simulation results\n",
    "# YOUR CODE HERE!\n",
    "\n",
    "# Print summary statistics\n",
    "# YOUR CODE HERE!"
   ]
  },
  {
   "cell_type": "code",
   "execution_count": null,
   "metadata": {},
   "outputs": [],
   "source": [
    "# Set initial investment\n",
    "# YOUR CODE HERE!\n",
    "\n",
    "# Use the lower and upper `95%` confidence intervals to calculate the range of the possible outcomes of our $60,000\n",
    "# YOUR CODE HERE!\n",
    "\n",
    "# Print results\n",
    "print(f\"There is a 95% chance that an initial investment of ${initial_investment} in the portfolio\"\n",
    "      f\" over the next 10 years will end within in the range of\"\n",
    "      f\" ${ci_lower_ten} and ${ci_upper_ten}\")"
   ]
  },
  {
   "cell_type": "code",
   "execution_count": null,
   "metadata": {},
   "outputs": [],
   "source": []
  }
 ],
 "metadata": {
  "kernelspec": {
   "display_name": "Python 3 (ipykernel)",
   "language": "python",
   "name": "python3"
  },
  "language_info": {
   "codemirror_mode": {
    "name": "ipython",
    "version": 3
   },
   "file_extension": ".py",
   "mimetype": "text/x-python",
   "name": "python",
   "nbconvert_exporter": "python",
   "pygments_lexer": "ipython3",
   "version": "3.7.13"
  },
  "nteract": {
   "version": "0.28.0"
  }
 },
 "nbformat": 4,
 "nbformat_minor": 4
}
